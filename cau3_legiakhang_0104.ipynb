{
  "nbformat": 4,
  "nbformat_minor": 0,
  "metadata": {
    "colab": {
      "name": "cau3_legiakhang_0104.ipynb",
      "provenance": [],
      "authorship_tag": "ABX9TyMsb8hgI73vZZkM2DKWJT38",
      "include_colab_link": true
    },
    "kernelspec": {
      "name": "python3",
      "display_name": "Python 3"
    },
    "language_info": {
      "name": "python"
    }
  },
  "cells": [
    {
      "cell_type": "markdown",
      "metadata": {
        "id": "view-in-github",
        "colab_type": "text"
      },
      "source": [
        "<a href=\"https://colab.research.google.com/github/giakhangle/phantichdulieu/blob/main/cau3_legiakhang_0104.ipynb\" target=\"_parent\"><img src=\"https://colab.research.google.com/assets/colab-badge.svg\" alt=\"Open In Colab\"/></a>"
      ]
    },
    {
      "cell_type": "code",
      "execution_count": 1,
      "metadata": {
        "colab": {
          "base_uri": "https://localhost:8080/"
        },
        "id": "AEWmrGrui2G-",
        "outputId": "275b32e3-e009-4572-874a-8aeda155fccc"
      },
      "outputs": [
        {
          "output_type": "stream",
          "name": "stderr",
          "text": [
            "/usr/local/lib/python3.7/dist-packages/statsmodels/tools/_testing.py:19: FutureWarning: pandas.util.testing is deprecated. Use the functions in the public API at pandas.testing instead.\n",
            "  import pandas.util.testing as tm\n"
          ]
        },
        {
          "output_type": "stream",
          "name": "stdout",
          "text": [
            "                   Rating  Price\n",
            "Ranger 3_Seasons       12    319\n",
            "Ranger Spring          24    289\n",
            "Ranger Winter           3    389\n",
            "Rondane 3-Seasons      13    239\n",
            "Randone Summer         38    149\n",
            "Randone Winter          4    289\n",
            "Senja Ice               5    359\n",
            "Senja Snow             15    259\n",
            "Senja Zero             25    229\n",
            "Super Light            45    129\n",
            "Tight & Light          25    199\n"
          ]
        }
      ],
      "source": [
        "import pandas as pd\n",
        "import numpy as np\n",
        "import matplotlib.pyplot as plt\n",
        "from pandas import DataFrame\n",
        "from scipy.stats.stats import pearsonr\n",
        "import statsmodels.formula.api as smf\n",
        "data={'Rating' : [12,24,3,13,38,4,5,15,25,45,25],\n",
        "  'Price': [319,289,389,239,149,289,359,259,229,129,199]}\n",
        "label = ['Ranger 3_Seasons','Ranger Spring','Ranger Winter','Rondane 3-Seasons','Randone Summer','Randone Winter','Senja Ice','Senja Snow','Senja Zero','Super Light','Tight & Light']\n",
        "df=pd.DataFrame(data, index=label)\n",
        "print(df)"
      ]
    },
    {
      "cell_type": "code",
      "source": [
        "#a) Vẽ scatter plot cho các dữ liệu này với đánh giá nhiệt độ (Rating (Fº)) là biến độc lập.\n",
        "plt.title(\"Rating & Price\")\n",
        "plt.xlabel(\"Rating\")\n",
        "plt.ylabel(\"Price\")\n",
        "plt.plot(df['Rating'],df['Price'],'o')\n",
        "plt.show()"
      ],
      "metadata": {
        "colab": {
          "base_uri": "https://localhost:8080/",
          "height": 295
        },
        "id": "2ey3S2tOlOfO",
        "outputId": "57535a31-903d-4d83-afe3-ee1c18551302"
      },
      "execution_count": 2,
      "outputs": [
        {
          "output_type": "display_data",
          "data": {
            "text/plain": [
              "<Figure size 432x288 with 1 Axes>"
            ],
            "image/png": "[encoded data removed]"
          },
          "metadata": {
            "needs_background": "light"
          }
        }
      ]
    },
    {
      "cell_type": "code",
      "source": [
        "#b) Tìm phương trình hồi quy ứng với dữ liệu mẫu đã cho.\n",
        "result = smf.ols('Price~Rating',df).fit()\n",
        "print(result.summary())\n",
        "print(result.params)\n",
        "print(result.conf_int())"
      ],
      "metadata": {
        "colab": {
          "base_uri": "https://localhost:8080/"
        },
        "id": "AcK3ZU2QmPEe",
        "outputId": "7c2f9f1d-410b-438c-90a3-0ae31e68d294"
      },
      "execution_count": 3,
      "outputs": [
        {
          "output_type": "stream",
          "name": "stdout",
          "text": [
            "                            OLS Regression Results                            \n",
            "==============================================================================\n",
            "Dep. Variable:                  Price   R-squared:                       0.804\n",
            "Model:                            OLS   Adj. R-squared:                  0.783\n",
            "Method:                 Least Squares   F-statistic:                     37.00\n",
            "Date:                Tue, 12 Apr 2022   Prob (F-statistic):           0.000183\n",
            "Time:                        11:47:42   Log-Likelihood:                -54.500\n",
            "No. Observations:                  11   AIC:                             113.0\n",
            "Df Residuals:                       9   BIC:                             113.8\n",
            "Df Model:                           1                                         \n",
            "Covariance Type:            nonrobust                                         \n",
            "==============================================================================\n",
            "                 coef    std err          t      P>|t|      [0.025      0.975]\n",
            "------------------------------------------------------------------------------\n",
            "Intercept    359.2667     20.064     17.906      0.000     313.878     404.655\n",
            "Rating        -5.2772      0.868     -6.082      0.000      -7.240      -3.315\n",
            "==============================================================================\n",
            "Omnibus:                        0.654   Durbin-Watson:                   1.830\n",
            "Prob(Omnibus):                  0.721   Jarque-Bera (JB):                0.556\n",
            "Skew:                           0.033   Prob(JB):                        0.757\n",
            "Kurtosis:                       1.900   Cond. No.                         40.6\n",
            "==============================================================================\n",
            "\n",
            "Warnings:\n",
            "[1] Standard Errors assume that the covariance matrix of the errors is correctly specified.\n",
            "Intercept    359.266736\n",
            "Rating        -5.277197\n",
            "dtype: float64\n",
            "                    0           1\n",
            "Intercept  313.878085  404.655388\n",
            "Rating      -7.239853   -3.314541\n"
          ]
        },
        {
          "output_type": "stream",
          "name": "stderr",
          "text": [
            "/usr/local/lib/python3.7/dist-packages/scipy/stats/stats.py:1535: UserWarning: kurtosistest only valid for n>=20 ... continuing anyway, n=11\n",
            "  \"anyway, n=%i\" % int(n))\n"
          ]
        }
      ]
    },
    {
      "cell_type": "code",
      "source": [
        "#c) Nếu một túi ngủ có đánh giá nhiệt độ là 20 (Fº), bạn sẽ ước tính giá của túi ngủ này là bao nhiêu?\n"
      ],
      "metadata": {
        "id": "oYN6inflmfzg"
      },
      "execution_count": null,
      "outputs": []
    }
  ]
}